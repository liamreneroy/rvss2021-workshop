{
 "cells": [
  {
   "cell_type": "code",
   "execution_count": 3,
   "metadata": {},
   "outputs": [],
   "source": [
    "import argparse\n",
    "import os\n",
    "\n",
    "import cmd_printer\n",
    "from imdb import imdb_loader\n",
    "from res18_skip import Resnet18Skip\n",
    "from trainer import Trainer\n",
    "from args import args\n",
    "\n"
   ]
  },
  {
   "cell_type": "code",
   "execution_count": 4,
   "metadata": {
    "scrolled": false
   },
   "outputs": [
    {
     "name": "stdout",
     "output_type": "stream",
     "text": [
      "\n",
      "==================== Hyper-parameters =====================\n",
      "   n_classes: 4\n",
      "   lr: 0.001\n",
      "   epochs: 20\n",
      "   batch_size: 64\n",
      "   weight_decay: 0.0001\n",
      "   scheduler_step: 5\n",
      "   scheduler_gamma: 0.5\n",
      "   model_dir: weights/fruits_5000SR\n",
      "   load_best: 0\n",
      "   log_freq: 20\n",
      "   dataset_dir: dataset/\n",
      "\n",
      "===========================================================\n",
      "\n",
      "=> The device is using 1 GPU(s).\n",
      "=> Loaded from model.pth, Epoch 32\n",
      "\n"
     ]
    }
   ],
   "source": [
    "\n",
    "args.model_dir = 'weights/fruits_2000S_1000R'\n",
    "args.dataset_dir = 'dataset/'\n",
    "# print args\n",
    "cmd_printer.divider(text=\"Hyper-parameters\", line_max=60)\n",
    "for arg in vars(args):\n",
    "    print(f\"   {arg}: {getattr(args, arg)}\")\n",
    "cmd_printer.divider(line_max=60)\n",
    "\n",
    "train_loader, eval_loader = imdb_loader(args)\n",
    "model = Resnet18Skip(args)\n",
    "trainer = Trainer(args)\n",
    "trainer.fit(model, train_loader, eval_loader)"
   ]
  },
  {
   "cell_type": "code",
   "execution_count": null,
   "metadata": {},
   "outputs": [],
   "source": []
  }
 ],
 "metadata": {
  "kernelspec": {
   "display_name": "conda_pytorch_latest_p36",
   "language": "python",
   "name": "conda_pytorch_latest_p36"
  },
  "language_info": {
   "codemirror_mode": {
    "name": "ipython",
    "version": 3
   },
   "file_extension": ".py",
   "mimetype": "text/x-python",
   "name": "python",
   "nbconvert_exporter": "python",
   "pygments_lexer": "ipython3",
   "version": "3.6.10"
  }
 },
 "nbformat": 4,
 "nbformat_minor": 2
}
